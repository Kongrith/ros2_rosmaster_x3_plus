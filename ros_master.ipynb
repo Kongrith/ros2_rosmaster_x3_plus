{
 "cells": [
  {
   "cell_type": "code",
   "execution_count": null,
   "id": "0b64905e",
   "metadata": {},
   "outputs": [],
   "source": [
    "#!/usr/bin/env python3\n",
    "#coding=utf-8\n",
    "\n",
    "from Rosmaster_Lib.Rosmaster import Rosmaster\n",
    "from ipywidgets import interact\n",
    "import ipywidgets as widgets\n",
    "import time\n",
    "\n",
    "bot = Rosmaster(1, \"/dev/USBserial\", debug=True)"
   ]
  },
  {
   "cell_type": "code",
   "execution_count": null,
   "id": "2b97a599",
   "metadata": {},
   "outputs": [],
   "source": [
    "# Start to receive data, can only start once, all read data function is based on this method\n",
    "bot.create_receive_threading()"
   ]
  },
  {
   "cell_type": "code",
   "execution_count": null,
   "id": "75b458c5",
   "metadata": {},
   "outputs": [],
   "source": [
    "# Car Information\n",
    "version = bot.get_version()\n",
    "print(version)\n",
    "\n",
    "car_type = bot.get_car_type_from_machine()\n",
    "print(\"car_type:\", car_type)\n",
    "\n",
    "# Read the battery voltage\n",
    "voltage = bot.get_battery_voltage()\n",
    "print(voltage)"
   ]
  },
  {
   "cell_type": "code",
   "execution_count": null,
   "id": "df2b2ff4",
   "metadata": {},
   "outputs": [],
   "source": [
    "# Enable automatic data sending\n",
    "# If enable=True, the underlying expansion module sends data every 40 milliseconds.  If enable=False, the port is not sent.\n",
    "# Forever =True for permanent, =False for temporary\n",
    "enable = True\n",
    "bot.set_auto_report_state(enable, forever=False)"
   ]
  },
  {
   "cell_type": "code",
   "execution_count": null,
   "id": "8ee27518",
   "metadata": {},
   "outputs": [],
   "source": [
    "# 9-axis\n",
    "ax, ay, az = bot.get_accelerometer_data()\n",
    "gx, gy, gz = bot.get_gyroscope_data()\n",
    "mx, my, mz = bot.get_magnetometer_data()\n",
    "\n",
    "# print(ax, ay, az, gx, gy, gz, mx, my, mz)\n",
    "\n",
    "try:\n",
    "\twhile True:\n",
    "\t\tax, ay, az = bot.get_accelerometer_data()\n",
    "\t\tgx, gy, gz = bot.get_gyroscope_data()\n",
    "\t\tmx, my, mz = bot.get_magnetometer_data()\n",
    "\t\tprint(ax, ay, az, gx, gy, gz, mx, my, mz)\n",
    "\t\ttime.sleep(.5)\n",
    "except KeyboardInterrupt:\n",
    "\tpass"
   ]
  },
  {
   "cell_type": "code",
   "execution_count": null,
   "id": "e8c11403",
   "metadata": {},
   "outputs": [],
   "source": [
    "# Roll Pitch Yaw\n",
    "roll, pitch, yaw = bot.get_imu_attitude_data()\n",
    "print(\"roll:%f, pitch:%f, yaw:%f\" % (roll, pitch, yaw))"
   ]
  },
  {
   "cell_type": "code",
   "execution_count": null,
   "id": "0b06a765",
   "metadata": {},
   "outputs": [],
   "source": [
    "# Encoder\n",
    "# m1, m2, m3, m4 = bot.get_motor_encoder()\n",
    "# print(\"encoder:\", m1, m2, m3, m4)\n",
    "\n",
    "try:\n",
    "    while True:\n",
    "        m1, m2, m3, m4 = bot.get_motor_encoder()\n",
    "        print(\"encoder:\", m1, m2, m3, m4)\n",
    "        time.sleep(.5)\n",
    "except KeyboardInterrupt:\n",
    "    pass"
   ]
  },
  {
   "cell_type": "code",
   "execution_count": null,
   "id": "e17bd233",
   "metadata": {},
   "outputs": [],
   "source": [
    "vx, vy, vz = bot.get_motion_data()\n",
    "print(\"V:\", vx, vy, vz)"
   ]
  },
  {
   "cell_type": "code",
   "execution_count": null,
   "id": "ae7245fe",
   "metadata": {},
   "outputs": [],
   "source": [
    "# ID of current steering gear\n",
    "servo_id = 5\n",
    "\n",
    "s_id, value = bot.get_uart_servo_value(servo_id)\n",
    "print(\"value:\", s_id, value)\n",
    "\n",
    "angle= bot.get_uart_servo_angle(servo_id)\n",
    "print(\"angle:\", angle)"
   ]
  },
  {
   "cell_type": "code",
   "execution_count": null,
   "id": "9ba9f6af",
   "metadata": {},
   "outputs": [],
   "source": [
    "#\n",
    "# set_car_run"
   ]
  },
  {
   "cell_type": "code",
   "execution_count": null,
   "id": "7c15d40b",
   "metadata": {},
   "outputs": [],
   "source": []
  },
  {
   "cell_type": "markdown",
   "id": "1fcd2900",
   "metadata": {},
   "source": [
    "Buzzler"
   ]
  },
  {
   "cell_type": "code",
   "execution_count": null,
   "id": "db8c4e19",
   "metadata": {},
   "outputs": [],
   "source": [
    "on_time = 1\n",
    "bot.set_beep(on_time)\n",
    "time.sleep(1)"
   ]
  },
  {
   "cell_type": "markdown",
   "id": "9b9a5832",
   "metadata": {},
   "source": [
    "Motor Control"
   ]
  },
  {
   "cell_type": "code",
   "execution_count": null,
   "id": "23c5cc53",
   "metadata": {},
   "outputs": [],
   "source": [
    "# Control motor movement\n",
    "def run_motor(M1, M2, M3, M4):\n",
    "    bot.set_motor(M1, M2, M3, M4)\n",
    "    return M1, M2, M3, M4\n",
    "\n",
    "\n",
    "# 创建四个滑块来控制电机 Create four sliders to control the motor\n",
    "interact(run_motor, \\\n",
    "         M1=widgets.IntSlider(min=-100,max=100,step=1,value=0), \\\n",
    "         M2=widgets.IntSlider(min=-100,max=100,step=1,value=0), \\\n",
    "         M3=widgets.IntSlider(min=-100,max=100,step=1,value=0), \\\n",
    "         M4=widgets.IntSlider(min=-100,max=100,step=1,value=0))"
   ]
  },
  {
   "cell_type": "code",
   "execution_count": null,
   "id": "01e68d07",
   "metadata": {},
   "outputs": [],
   "source": [
    "# 停止运动 stop motion\n",
    "bot.set_motor(0, 0, 0, 0)"
   ]
  },
  {
   "cell_type": "markdown",
   "id": "afd4d9a4",
   "metadata": {},
   "source": [
    "Motion Control"
   ]
  },
  {
   "cell_type": "code",
   "execution_count": null,
   "id": "c001beb1",
   "metadata": {},
   "outputs": [],
   "source": [
    "# 控制电机运动 Control motor movement\n",
    "def car_motion(V_x, V_y, V_z):\n",
    "    speed_x= V_x / 1000.0\n",
    "    speed_y = V_y / 1000.0\n",
    "    speed_z = V_z / 1000.0\n",
    "    bot.set_car_motion(speed_x, speed_y, speed_z)\n",
    "    return speed_x, speed_y, speed_z\n",
    "\n",
    "\n",
    "# 创建三个滑块来控制小车的速度 Create three sliders to control the speed of the car\n",
    "interact(car_motion, \\\n",
    "         V_x=widgets.IntSlider(min=-700,max=700,step=1,value=0), \\\n",
    "         V_y=widgets.IntSlider(min=-700,max=700,step=1,value=0), \\\n",
    "         V_z=widgets.IntSlider(min=-3200,max=3200,step=1,value=0))"
   ]
  },
  {
   "cell_type": "code",
   "execution_count": null,
   "id": "479c00d9",
   "metadata": {},
   "outputs": [],
   "source": [
    "# 停止运动 stop motion\n",
    "bot.set_motor(0, 0, 0, 0)"
   ]
  },
  {
   "cell_type": "code",
   "execution_count": null,
   "id": "05a5055d",
   "metadata": {},
   "outputs": [],
   "source": [
    "# Obtain the linear velocity and angular velocity data of the car\n",
    "try:\n",
    "    while True:\n",
    "        V_x, V_y, V_z = bot.get_motion_data()\n",
    "        print(\"speed:\", V_x, V_y, V_z)\n",
    "        bot.clear_auto_report_data()\n",
    "        time.sleep(.1)\n",
    "except KeyboardInterrupt:\n",
    "    pass"
   ]
  },
  {
   "cell_type": "code",
   "execution_count": null,
   "id": "bcd9f34c",
   "metadata": {},
   "outputs": [],
   "source": [
    "# PID parameter control will affect the set_CAR_motion function to control the speed change of the car.  This parameter is optional by default\n",
    "kp = 0.8\n",
    "ki = 0.06\n",
    "kd = 0.5\n",
    "bot.set_pid_param(kp, ki, kd, forever=False)"
   ]
  },
  {
   "cell_type": "code",
   "execution_count": null,
   "id": "62941bd8",
   "metadata": {},
   "outputs": [],
   "source": [
    "kp, ki, kd = bot.get_motion_pid()\n",
    "print(\"PID:\", kp, ki, kd)"
   ]
  },
  {
   "cell_type": "markdown",
   "id": "330233ee",
   "metadata": {},
   "source": [
    "Robotic Arm"
   ]
  },
  {
   "cell_type": "code",
   "execution_count": null,
   "id": "720ed20e",
   "metadata": {},
   "outputs": [],
   "source": [
    "servo_id = 4\n",
    "\n",
    "# 控制串口舵机关节运动 Control the joint movement of serial steering gear\n",
    "def arm_servo(s_angle):\n",
    "    bot.set_uart_servo_angle(servo_id, s_angle)\n",
    "\n",
    "# 创建一个滑块来控制的某个串口舵机 Create a slider to control a serial actuator\n",
    "if servo_id == 1:\n",
    "    interact(arm_servo, s_angle=widgets.IntSlider(min=0,max=180,step=1,value=90));\n",
    "elif servo_id == 2:\n",
    "    interact(arm_servo, s_angle=widgets.IntSlider(min=0,max=180,step=1,value=90));\n",
    "elif servo_id == 3:\n",
    "    interact(arm_servo, s_angle=widgets.IntSlider(min=0,max=100,step=1,value=90));\n",
    "# elif servo_id == 3:\n",
    "#     interact(arm_servo, s_angle=widgets.IntSlider(min=0,max=180,step=1,value=90));\n",
    "elif servo_id == 4:\n",
    "    interact(arm_servo, s_angle=widgets.IntSlider(min=0,max=180,step=1,value=90));\n",
    "elif servo_id == 5:\n",
    "    interact(arm_servo, s_angle=widgets.IntSlider(min=0,max=270,step=1,value=90));\n",
    "elif servo_id == 6:\n",
    "    interact(arm_servo, s_angle=widgets.IntSlider(min=30,max=180,step=1,value=90));"
   ]
  },
  {
   "cell_type": "code",
   "execution_count": null,
   "id": "b072271c",
   "metadata": {},
   "outputs": [],
   "source": [
    "# Read the current serial steering gear Angle, read the Angle value and the set Angle value may be 1-2 degrees deviation\n",
    "# Read error returns -1\n",
    "read_servo = bot.get_uart_servo_angle(servo_id)\n",
    "print(\"read angle:\", servo_id, read_servo)"
   ]
  },
  {
   "cell_type": "code",
   "execution_count": null,
   "id": "74e430ea",
   "metadata": {},
   "outputs": [],
   "source": [
    "# 一次控制的六个串口舵机 Six serial steering gear at one time\n",
    "def arm_servo(s1, s2, s3, s4, s5, s6):\n",
    "    bot.set_uart_servo_angle_array([s1, s2, s3, s4, s5, s6])\n",
    "    return s1, s2, s3, s4, s5, s6\n",
    "\n",
    "# 创建六个滑块来控制串口舵机的六个关节 Create six sliders to control the six joints of the serial actuator\n",
    "interact(arm_servo, \\\n",
    "         s1=widgets.IntSlider(min=0,max=180,step=1,value=90), \\\n",
    "         s2=widgets.IntSlider(min=0,max=180,step=1,value=90), \\\n",
    "         s3=widgets.IntSlider(min=0,max=180,step=1,value=90), \\\n",
    "         s4=widgets.IntSlider(min=0,max=180,step=1,value=90), \\\n",
    "         s5=widgets.IntSlider(min=0,max=180,step=1,value=90), \\\n",
    "         s6=widgets.IntSlider(min=30,max=180,step=1,value=180));"
   ]
  },
  {
   "cell_type": "code",
   "execution_count": null,
   "id": "ee20a3a7",
   "metadata": {},
   "outputs": [],
   "source": [
    "# Read six steering gear angles at one time, the Angle values read and set may be 1-2 degrees deviation\n",
    "# Read the correct return six steering gear Angle [xx, xx, xx, xx, xx, xx, xx], if one of the steering gear is wrong, which one is -1\n",
    "read_array = bot.get_uart_servo_angle_array()\n",
    "print(\"read array:\", read_array)"
   ]
  },
  {
   "cell_type": "code",
   "execution_count": null,
   "id": "81ba5d7e",
   "metadata": {},
   "outputs": [],
   "source": [
    "# Turn off torque force, the steering gear joint can be turned by hand, but command cannot control rotation\n",
    "bot.set_uart_servo_torque(False)"
   ]
  },
  {
   "cell_type": "code",
   "execution_count": null,
   "id": "d936f0aa",
   "metadata": {},
   "outputs": [],
   "source": [
    "# Turn on torque force, command can control rotation, can not turn steering gear joint by hand\n",
    "bot.set_uart_servo_torque(True)"
   ]
  },
  {
   "cell_type": "code",
   "execution_count": null,
   "id": "a6196604",
   "metadata": {},
   "outputs": [],
   "source": [
    "set_servo_id = 2\n",
    "\n",
    "#输入要写入的伺服ID，1 - 6\n",
    "#Enter the servo ID to be written, 1 - 6\n",
    "\n",
    "bot.set_uart_servo_id(set_servo_id)\n",
    "print(\"The servo ID has been set to:\",set_servo_id)"
   ]
  },
  {
   "cell_type": "code",
   "execution_count": null,
   "id": "064bc88a",
   "metadata": {},
   "outputs": [],
   "source": [
    "# Please delete the object after the program to avoid conflicts caused by Rosmaster library in other programs\n",
    "del bot"
   ]
  },
  {
   "cell_type": "code",
   "execution_count": null,
   "id": "53df6527",
   "metadata": {},
   "outputs": [],
   "source": [
    "import cv2\n",
    "print(cv2.getBuildInformation())"
   ]
  },
  {
   "cell_type": "code",
   "execution_count": 6,
   "id": "4ab8ecbe",
   "metadata": {},
   "outputs": [
    {
     "name": "stderr",
     "output_type": "stream",
     "text": [
      "[ WARN:0@67.842] global cap_gstreamer.cpp:1777 open OpenCV | GStreamer warning: Cannot query video position: status=1, value=0, duration=-1\n"
     ]
    }
   ],
   "source": [
    "import cv2\n",
    "cap = cv2.VideoCapture('videotestsrc ! videoconvert ! appsink')\n",
    "while True:\n",
    "    ret,frame = cap.read()\n",
    "    cv2.imshow('',frame)\n",
    "    if cv2.waitKey(1) & 0xFF == ord('q'):\n",
    "        break\n",
    "cv2.destroyAllWindows()\n",
    "cap.release()"
   ]
  },
  {
   "cell_type": "markdown",
   "id": "788dfae5",
   "metadata": {},
   "source": [
    "aa"
   ]
  },
  {
   "cell_type": "code",
   "execution_count": 7,
   "id": "fb79439f",
   "metadata": {},
   "outputs": [],
   "source": [
    "'''\n",
    "\t# How to set video capture properties using V4L2:\n",
    "\t# Full list of Video Capture Properties for OpenCV: https://docs.opencv.org/3.4/d4/d15/group__videoio__flags__base.html\n",
    "\t#Select Pixel Format:\n",
    "\t# video_capture.set(cv2.CAP_PROP_FOURCC, cv2.VideoWriter_fourcc(*'YUYV'))\n",
    "\t# Two common formats, MJPG and H264\n",
    "\t# video_capture.set(cv2.CAP_PROP_FOURCC, cv2.VideoWriter_fourcc(*'MJPG'))\n",
    "\t# Default libopencv on the Jetson is not linked against libx264, so H.264 is not available\n",
    "\t# video_capture.set(cv2.CAP_PROP_FOURCC, cv2.VideoWriter_fourcc(*'H264'))\n",
    "\t# Select frame size, FPS:\n",
    "\tvideo_capture.set(cv2.CAP_PROP_FRAME_WIDTH, 640)\n",
    "\tvideo_capture.set(cv2.CAP_PROP_FRAME_HEIGHT, 480)\n",
    "\tvideo_capture.set(cv2.CAP_PROP_FPS, 30)\n",
    "\"\"\"\n",
    "'''\n",
    "\n",
    "import cv2\n",
    "\n",
    "# ASSIGN CAMERA ADDRESS HERE\n",
    "camera_id = \"/dev/video2\"\n",
    "\n",
    "# Full list of Video Capture APIs (video backends): https://docs.opencv.org/3.4/d4/d15/group__videoio__flags__base.html\n",
    "# For webcams, we use V4L2\n",
    "# cap = cv2.VideoCapture('/dev/video1')\n",
    "cap = cv2.VideoCapture(camera_id, cv2.CAP_V4L2)\n",
    "width = 640\n",
    "height = 480\n",
    "cap.set(cv2.CAP_PROP_FRAME_WIDTH, width)\n",
    "cap.set(cv2.CAP_PROP_FRAME_HEIGHT, height)\n",
    "\n",
    "window_title = \"aaa\""
   ]
  },
  {
   "cell_type": "code",
   "execution_count": 8,
   "id": "21377482",
   "metadata": {},
   "outputs": [],
   "source": [
    "if cap.isOpened():\n",
    "\ttry:\n",
    "\t\twindow_handle = cv2.namedWindow(window_title, cv2.WINDOW_AUTOSIZE )\n",
    "\t\twhile True:\n",
    "\t\t\tret_val, frame = cap.read()\n",
    "\t\t\t# Check to see if the user closed the window\n",
    "\t\t\t# Under GTK+ (Jetson Default), WND_PROP_VISIBLE does not work correctly. Under Qt it does\n",
    "\t\t\t# GTK - Substitute WND_PROP_AUTOSIZE to detect if window has been closed by user\n",
    "\t\t\tif cv2.getWindowProperty(window_title, cv2.WND_PROP_AUTOSIZE) >= 0:\n",
    "\t\t\t\tcv2.imshow(window_title, frame)\n",
    "\t\t\telse:\n",
    "\t\t\t\tbreak\n",
    "\t\t\tkeyCode = cv2.waitKey(10) & 0xFF\n",
    "\t\t\t# Stop the program on the ESC key or 'q'\n",
    "\t\t\tif keyCode == 27 or keyCode == ord('q'):\n",
    "\t\t\t\tbreak\n",
    "\tfinally:\n",
    "\t\tcap.release()\n",
    "\t\tcv2.destroyAllWindows()\n",
    "else:\n",
    "\tprint(\"Unable to open camera\")"
   ]
  },
  {
   "cell_type": "markdown",
   "id": "540fbffd",
   "metadata": {},
   "source": [
    "aaaa"
   ]
  },
  {
   "cell_type": "code",
   "execution_count": 12,
   "id": "1b20efe5",
   "metadata": {},
   "outputs": [
    {
     "name": "stdout",
     "output_type": "stream",
     "text": [
      "[01/19 11:38:32.783058][info][6048][Context.cpp:69] Context created with config: default config!\n",
      "[01/19 11:38:32.783100][info][6048][Context.cpp:74] Context work_dir=/home/cartoon/rosmaster_ws\n",
      "[01/19 11:38:32.783139][info][6048][Context.cpp:77] \t- SDK version: 1.9.4\n",
      "[01/19 11:38:32.783143][info][6048][Context.cpp:78] \t- SDK stage version: main\n",
      "[01/19 11:38:32.783171][info][6048][Context.cpp:82] get config EnumerateNetDevice:false\n",
      "[01/19 11:38:32.783414][info][6048][LinuxPal.cpp:38] createObPal: create LinuxPal!\n",
      "[01/19 11:38:32.945978][warning][6048][OpenNIDeviceInfo.cpp:186] New openni device matched.\n",
      "[01/19 11:38:32.946631][info][6048][LinuxPal.cpp:112] Create PollingDeviceWatcher!\n",
      "[01/19 11:38:32.946716][info][6048][DeviceManager.cpp:15] Current found device(s): (1)\n",
      "[01/19 11:38:32.946730][info][6048][DeviceManager.cpp:24] \t- Name: Astra Pro Plus, PID: 0x060f, SN/ID: , Connection: USB2.0\n",
      "[01/19 11:38:32.947104][info][6048][Pipeline.cpp:15] Try to create pipeline with default device.\n",
      "[01/19 11:38:32.951835][info][6048][OpenNIHostProtocol.cpp:567] Hardware versions: FW=5.8.22 (14), HW=0, Chip=6, Sensor=0, SYS=12\n",
      "[01/19 11:38:32.953313][error][6048][OpenNIHostProtocol.cpp:584] Get usb core type failed!\n",
      "[01/19 11:38:32.961808][info][6048][OpenNISensorFirmware.cpp:1185] Sensor serial number:ACRC64300Y3\n",
      "[01/19 11:38:32.964815][info][6048][OpenNISensorFirmware.cpp:1213] Firmware version RD2510\n",
      "[01/19 11:38:32.966319][info][6048][OpenNISensorFirmware.cpp:1219] Device frequency 50\n",
      "[01/19 11:38:33.013198][error][6048][OpenNIHostProtocol.cpp:952] Support sub cmd error!\n",
      "[01/19 11:38:33.013234][warning][6048][OpenNISensorFirmware.cpp:153] OpenNI2 camera don't support Watchdog function!\n",
      "[01/19 11:38:33.014678][info][6048][AbstractDevice.cpp:124] \t- Firmware version: RD2510\n",
      "[01/19 11:38:33.015424][info][6048][OpenNIDevice.cpp:33] OpenNI device created! PID: 0x060f, SN: ACRC64300Y3\n",
      "[01/19 11:38:33.015448][info][6048][DeviceManager.cpp:157] Device created successfully! Name: Astra Pro Plus, PID: 0x060f, SN/ID: \n",
      "[01/19 11:38:33.015496][info][6048][Pipeline.cpp:44] Pipeline created with device: {name: Astra Pro Plus, sn: ACRC64300Y3}, @0xAAAAD0EC4860\n",
      "[01/19 11:38:33.024038][info][6048][OpenNIDevice.cpp:645] Color sensor has been created!\n",
      "[01/19 11:38:33.025356][info][6048][OpenNIDevice.cpp:566] Depth sensor has been created!\n",
      "[01/19 11:38:33.039862][info][6048][Pipeline.cpp:239] Try to start streams!\n",
      "[01/19 11:38:33.039961][info][6048][VideoSensor.cpp:662] start OB_SENSOR_COLOR stream with profile: {type: OB_STREAM_COLOR, format: OB_FORMAT_MJPG, width: 640, height: 480, fps: 30}\n",
      "[01/19 11:38:33.713073][info][6048][Pipeline.cpp:252] Start streams done!\n",
      "[01/19 11:38:33.713109][info][6048][Pipeline.cpp:235] Pipeline start done!\n",
      "Fail to grab data from the camera.\n",
      "Fail to grab data from the camera.\n",
      "Fail to grab data from the camera.\n",
      "Fail to grab data from the camera.\n",
      "Fail to grab data from the camera.\n",
      "Fail to grab data from the camera.\n",
      "Fail to grab data from the camera.\n",
      "Fail to grab data from the camera.\n",
      "Fail to grab data from the camera.\n",
      "Fail to grab data from the camera.\n",
      "Fail to grab data from the camera.\n",
      "Fail to grab data from the camera.\n",
      "Fail to grab data from the camera.\n",
      "Fail to grab data from the camera.\n",
      "Fail to grab data from the camera.\n",
      "Fail to grab data from the camera.\n",
      "Fail to grab data from the camera.\n",
      "Fail to grab data from the camera.\n",
      "[01/19 11:38:37.963980][info][6048][Pipeline.cpp:362] Try to stop pipeline!\n",
      "[01/19 11:38:37.964039][info][6048][Pipeline.cpp:334] Try to stop streams!\n",
      "[01/19 11:38:38.066819][warning][14853][OpenNIUSBLinux.cpp:244] Endpoint  0x81, Buffer11: Failed waiting on asynch transfer event:OB_EVENT_TIMEOUT\n",
      "[01/19 11:38:38.066874][warning][14853][OpenNIUSBLinux.cpp:203] exist(0) read thread(12)\n",
      "[01/19 11:38:38.067217][warning][6048][MessengerLibusb.cpp:82] usb_request_cancel returned error, endpoint:129, error:Resource temporarily unavailable, number:11 \n",
      "[01/19 11:38:38.067256][warning][6048][MessengerLibusb.cpp:82] usb_request_cancel returned error, endpoint:129, error:Resource temporarily unavailable, number:11 \n",
      "[01/19 11:38:38.067268][warning][6048][MessengerLibusb.cpp:82] usb_request_cancel returned error, endpoint:129, error:Resource temporarily unavailable, number:11 \n",
      "[01/19 11:38:38.067278][warning][6048][MessengerLibusb.cpp:82] usb_request_cancel returned error, endpoint:129, error:Resource temporarily unavailable, number:11 \n",
      "[01/19 11:38:38.067287][warning][6048][MessengerLibusb.cpp:82] usb_request_cancel returned error, endpoint:129, error:Resource temporarily unavailable, number:11 \n",
      "[01/19 11:38:38.067294][warning][6048][MessengerLibusb.cpp:82] usb_request_cancel returned error, endpoint:129, error:Resource temporarily unavailable, number:11 \n",
      "[01/19 11:38:38.067302][warning][6048][MessengerLibusb.cpp:82] usb_request_cancel returned error, endpoint:129, error:Resource temporarily unavailable, number:11 \n",
      "[01/19 11:38:38.067310][warning][6048][MessengerLibusb.cpp:82] usb_request_cancel returned error, endpoint:129, error:Resource temporarily unavailable, number:11 \n",
      "[01/19 11:38:38.067317][warning][6048][MessengerLibusb.cpp:82] usb_request_cancel returned error, endpoint:129, error:Resource temporarily unavailable, number:11 \n",
      "[01/19 11:38:38.067325][warning][6048][MessengerLibusb.cpp:82] usb_request_cancel returned error, endpoint:129, error:Resource temporarily unavailable, number:11 \n",
      "[01/19 11:38:38.067389][warning][6048][MessengerLibusb.cpp:82] usb_request_cancel returned error, endpoint:129, error:Resource temporarily unavailable, number:11 \n",
      "[01/19 11:38:38.067402][warning][6048][MessengerLibusb.cpp:82] usb_request_cancel returned error, endpoint:129, error:Resource temporarily unavailable, number:11 \n",
      "[01/19 11:38:38.067413][warning][6048][MessengerLibusb.cpp:82] usb_request_cancel returned error, endpoint:129, error:Resource temporarily unavailable, number:11 \n",
      "[01/19 11:38:38.067421][warning][6048][MessengerLibusb.cpp:82] usb_request_cancel returned error, endpoint:129, error:Resource temporarily unavailable, number:11 \n",
      "[01/19 11:38:38.067429][warning][6048][MessengerLibusb.cpp:82] usb_request_cancel returned error, endpoint:129, error:Resource temporarily unavailable, number:11 \n",
      "[01/19 11:38:38.067438][warning][6048][MessengerLibusb.cpp:82] usb_request_cancel returned error, endpoint:129, error:Resource temporarily unavailable, number:11 \n",
      "[01/19 11:38:38.069412][error][6048][OpenNIVideoSensor.cpp:715] OpenNI Depth  stream stop failed!\n",
      "[01/19 11:38:38.072254][error][6048][OpenNIVideoSensor.cpp:731] OpenNI Depth stream stop completed.\n",
      "[01/19 11:38:38.072286][info][6048][Pipeline.cpp:347] Sensor stream stopped, sensorType=OB_SENSOR_DEPTH\n",
      "[01/19 11:38:38.156817][info][6048][VideoSensor.cpp:771] Video sensor stopped, @OB_SENSOR_COLOR\n",
      "[01/19 11:38:38.156843][info][6048][Pipeline.cpp:347] Sensor stream stopped, sensorType=OB_SENSOR_COLOR\n",
      "[01/19 11:38:38.156850][info][6048][Pipeline.cpp:353] Stop streams done!\n",
      "[01/19 11:38:38.160756][info][6048][Pipeline.cpp:391] Stop pipeline done!\n",
      "[01/19 11:38:38.160787][info][6048][Pipeline.cpp:72] Pipeline destroyed! @0xAAAAD0EC4860\n",
      "[01/19 11:38:38.160808][info][6048][OpenNIDevice.cpp:37] OpenNI device destroyed! PID: 0x060f, SN: ACRC64300Y3\n",
      "[01/19 11:38:38.160822][info][6048][VideoSensor.cpp:335] VideoSensor destroyed, @OB_SENSOR_COLOR\n",
      "[01/19 11:38:38.160837][info][6048][OpenNIVideoSensor.cpp:1070] OpenNIVideoSensor destroyed! sensorType=OB_SENSOR_DEPTH\n",
      "[01/19 11:38:38.161341][info][6048][ObUvcDevice.cpp:70] uvc_close done.\n",
      "[01/19 11:38:38.161353][info][6048][ObUvcDevice.cpp:72] ~ObUvcDevice done\n",
      "[01/19 11:38:38.161860][info][6048][Context.cpp:90] Context destroyed\n"
     ]
    }
   ],
   "source": [
    "import numpy as np\n",
    "import sys\n",
    "import cv2 as cv\n",
    "\n",
    "\n",
    "def main():\n",
    "\t# Open Orbbec depth sensor\n",
    "\torbbec_cap = cv.VideoCapture(0, cv.CAP_OBSENSOR)\n",
    "\tif orbbec_cap.isOpened() == False:\n",
    "\t\tsys.exit(\"Fail to open camera.\")\n",
    "\n",
    "\twhile True:\n",
    "\t\t # Grab data from the camera\n",
    "\t\tif orbbec_cap.grab():\n",
    "\t\t\t# RGB data\n",
    "\t\t\tret_bgr, bgr_image = orbbec_cap.retrieve(None, cv.CAP_OBSENSOR_BGR_IMAGE)\n",
    "\t\t\tif ret_bgr:\n",
    "\t\t\t\tcv.imshow(\"BGR\", bgr_image)\n",
    "\n",
    "\t\t\t# depth data\n",
    "\t\t\tret_depth, depth_map = orbbec_cap.retrieve(None, cv.CAP_OBSENSOR_DEPTH_MAP)\n",
    "\t\t\tif ret_depth:\n",
    "\t\t\t\tcolor_depth_map = cv.normalize(depth_map, None, 0, 255, cv.NORM_MINMAX, cv.CV_8UC1)\n",
    "\t\t\t\tcolor_depth_map = cv.applyColorMap(color_depth_map, cv.COLORMAP_JET)\n",
    "\t\t\t\tcv.imshow(\"DEPTH\", color_depth_map)\n",
    "\n",
    "\t\t\t# Stop the program on the ESC key or 'q'\n",
    "\t\t\tkeyCode = cv2.waitKey(10) & 0xFF\n",
    "\t\t\tif keyCode == 27 or keyCode == ord('q'):\n",
    "\t\t\t\tbreak\n",
    "\t\telse:\n",
    "\t\t\tprint(\"Fail to grab data from the camera.\")\n",
    "\t\tkeyCode = cv2.waitKey(10) & 0xFF\n",
    "\t\t\t# Stop the program on the ESC key or 'q'\n",
    "\t\tif keyCode == 27 or keyCode == ord('q'):\n",
    "\t\t\tbreak\n",
    "\n",
    "\t\tif cv.pollKey() >= 0:\n",
    "\t\t\tbreak\n",
    "\n",
    "\torbbec_cap.release()\n",
    "\tcv.destroyAllWindows()\n",
    "\n",
    "if __name__ == '__main__':\n",
    "    main()"
   ]
  },
  {
   "cell_type": "code",
   "execution_count": 1,
   "id": "d09691b5",
   "metadata": {},
   "outputs": [
    {
     "name": "stdout",
     "output_type": "stream",
     "text": [
      "OpenCV version: 4.10.0-dev\n"
     ]
    }
   ],
   "source": [
    "import cv2\n",
    "print(\"OpenCV version:\", cv2.__version__)"
   ]
  },
  {
   "cell_type": "code",
   "execution_count": 2,
   "id": "6b307026",
   "metadata": {},
   "outputs": [
    {
     "name": "stdout",
     "output_type": "stream",
     "text": [
      "[01/18 19:41:27.283079][info][6036][Context.cpp:69] Context created with config: default config!\n",
      "[01/18 19:41:27.283124][info][6036][Context.cpp:74] Context work_dir=/home/cartoon/rosmaster_ws\n",
      "[01/18 19:41:27.283132][info][6036][Context.cpp:77] \t- SDK version: 1.9.4\n",
      "[01/18 19:41:27.283137][info][6036][Context.cpp:78] \t- SDK stage version: main\n",
      "[01/18 19:41:27.283148][info][6036][Context.cpp:82] get config EnumerateNetDevice:false\n",
      "[01/18 19:41:27.283155][info][6036][LinuxPal.cpp:38] createObPal: create LinuxPal!\n",
      "[01/18 19:41:27.438173][warning][6036][OpenNIDeviceInfo.cpp:186] New openni device matched.\n",
      "[01/18 19:41:27.438513][info][6036][LinuxPal.cpp:112] Create PollingDeviceWatcher!\n",
      "[01/18 19:41:27.438680][info][6036][DeviceManager.cpp:15] Current found device(s): (1)\n",
      "[01/18 19:41:27.438691][info][6036][DeviceManager.cpp:24] \t- Name: Astra Pro Plus, PID: 0x060f, SN/ID: , Connection: USB2.0\n",
      "[01/18 19:41:27.438704][info][6036][Pipeline.cpp:15] Try to create pipeline with default device.\n",
      "[01/18 19:41:27.440901][info][6036][OpenNIHostProtocol.cpp:567] Hardware versions: FW=5.8.22 (14), HW=0, Chip=6, Sensor=0, SYS=12\n",
      "[01/18 19:41:27.442376][error][6036][OpenNIHostProtocol.cpp:584] Get usb core type failed!\n",
      "[01/18 19:41:27.450876][info][6036][OpenNISensorFirmware.cpp:1185] Sensor serial number:ACRC64300Y3\n",
      "[01/18 19:41:27.453878][info][6036][OpenNISensorFirmware.cpp:1213] Firmware version RD2510\n",
      "[01/18 19:41:27.455420][info][6036][OpenNISensorFirmware.cpp:1219] Device frequency 50\n",
      "[01/18 19:41:27.501903][error][6036][OpenNIHostProtocol.cpp:952] Support sub cmd error!\n",
      "[01/18 19:41:27.501925][warning][6036][OpenNISensorFirmware.cpp:153] OpenNI2 camera don't support Watchdog function!\n",
      "[01/18 19:41:27.502107][info][6036][AbstractDevice.cpp:124] \t- Firmware version: RD2510\n",
      "[01/18 19:41:27.502346][info][6036][OpenNIDevice.cpp:33] OpenNI device created! PID: 0x060f, SN: ACRC64300Y3\n",
      "[01/18 19:41:27.502362][info][6036][DeviceManager.cpp:157] Device created successfully! Name: Astra Pro Plus, PID: 0x060f, SN/ID: \n",
      "[01/18 19:41:27.502468][info][6036][Pipeline.cpp:44] Pipeline created with device: {name: Astra Pro Plus, sn: ACRC64300Y3}, @0xAAAAE93BFC20\n",
      "[01/18 19:41:27.567034][info][6036][OpenNIDevice.cpp:645] Color sensor has been created!\n",
      "[01/18 19:41:27.567645][info][6036][OpenNIDevice.cpp:566] Depth sensor has been created!\n",
      "[01/18 19:41:27.582918][info][6036][Pipeline.cpp:239] Try to start streams!\n",
      "[01/18 19:41:27.583018][info][6036][VideoSensor.cpp:662] start OB_SENSOR_COLOR stream with profile: {type: OB_STREAM_COLOR, format: OB_FORMAT_MJPG, width: 640, height: 480, fps: 30}\n",
      "[01/18 19:41:28.253819][info][6036][Pipeline.cpp:252] Start streams done!\n",
      "[01/18 19:41:28.253864][info][6036][Pipeline.cpp:235] Pipeline start done!\n",
      "Fail to grab data from the camera.\n",
      "[01/18 19:41:28.473296][info][6036][Pipeline.cpp:362] Try to stop pipeline!\n",
      "[01/18 19:41:28.473342][info][6036][Pipeline.cpp:334] Try to stop streams!\n",
      "[01/18 19:41:28.579467][warning][6152][OpenNIUSBLinux.cpp:244] Endpoint  0x81, Buffer6: Failed waiting on asynch transfer event:OB_EVENT_TIMEOUT\n",
      "[01/18 19:41:28.579531][warning][6152][OpenNIUSBLinux.cpp:203] exist(0) read thread(7)\n",
      "[01/18 19:41:28.579636][warning][6036][MessengerLibusb.cpp:82] usb_request_cancel returned error, endpoint:129, error:Resource temporarily unavailable, number:11 \n",
      "[01/18 19:41:28.579671][warning][6036][MessengerLibusb.cpp:82] usb_request_cancel returned error, endpoint:129, error:Resource temporarily unavailable, number:11 \n",
      "[01/18 19:41:28.579681][warning][6036][MessengerLibusb.cpp:82] usb_request_cancel returned error, endpoint:129, error:Resource temporarily unavailable, number:11 \n",
      "[01/18 19:41:28.579688][warning][6036][MessengerLibusb.cpp:82] usb_request_cancel returned error, endpoint:129, error:Resource temporarily unavailable, number:11 \n",
      "[01/18 19:41:28.579695][warning][6036][MessengerLibusb.cpp:82] usb_request_cancel returned error, endpoint:129, error:Resource temporarily unavailable, number:11 \n",
      "[01/18 19:41:28.579700][warning][6036][MessengerLibusb.cpp:82] usb_request_cancel returned error, endpoint:129, error:Resource temporarily unavailable, number:11 \n",
      "[01/18 19:41:28.579706][warning][6036][MessengerLibusb.cpp:82] usb_request_cancel returned error, endpoint:129, error:Resource temporarily unavailable, number:11 \n",
      "[01/18 19:41:28.579712][warning][6036][MessengerLibusb.cpp:82] usb_request_cancel returned error, endpoint:129, error:Resource temporarily unavailable, number:11 \n",
      "[01/18 19:41:28.579718][warning][6036][MessengerLibusb.cpp:82] usb_request_cancel returned error, endpoint:129, error:Resource temporarily unavailable, number:11 \n",
      "[01/18 19:41:28.579724][warning][6036][MessengerLibusb.cpp:82] usb_request_cancel returned error, endpoint:129, error:Resource temporarily unavailable, number:11 \n",
      "[01/18 19:41:28.579730][warning][6036][MessengerLibusb.cpp:82] usb_request_cancel returned error, endpoint:129, error:Resource temporarily unavailable, number:11 \n",
      "[01/18 19:41:28.579735][warning][6036][MessengerLibusb.cpp:82] usb_request_cancel returned error, endpoint:129, error:Resource temporarily unavailable, number:11 \n",
      "[01/18 19:41:28.579786][warning][6036][MessengerLibusb.cpp:82] usb_request_cancel returned error, endpoint:129, error:Resource temporarily unavailable, number:11 \n",
      "[01/18 19:41:28.579794][warning][6036][MessengerLibusb.cpp:82] usb_request_cancel returned error, endpoint:129, error:Resource temporarily unavailable, number:11 \n",
      "[01/18 19:41:28.579800][warning][6036][MessengerLibusb.cpp:82] usb_request_cancel returned error, endpoint:129, error:Resource temporarily unavailable, number:11 \n",
      "[01/18 19:41:28.579806][warning][6036][MessengerLibusb.cpp:82] usb_request_cancel returned error, endpoint:129, error:Resource temporarily unavailable, number:11 \n",
      "[01/18 19:41:28.582224][error][6036][OpenNIVideoSensor.cpp:715] OpenNI Depth  stream stop failed!\n",
      "[01/18 19:41:28.586456][error][6036][OpenNIVideoSensor.cpp:731] OpenNI Depth stream stop completed.\n",
      "[01/18 19:41:28.586675][info][6036][Pipeline.cpp:347] Sensor stream stopped, sensorType=OB_SENSOR_DEPTH\n",
      "[01/18 19:41:28.649475][info][6036][VideoSensor.cpp:771] Video sensor stopped, @OB_SENSOR_COLOR\n",
      "[01/18 19:41:28.649505][info][6036][Pipeline.cpp:347] Sensor stream stopped, sensorType=OB_SENSOR_COLOR\n",
      "[01/18 19:41:28.649512][info][6036][Pipeline.cpp:353] Stop streams done!\n",
      "[01/18 19:41:28.653655][info][6036][Pipeline.cpp:391] Stop pipeline done!\n",
      "[01/18 19:41:28.653692][info][6036][Pipeline.cpp:72] Pipeline destroyed! @0xAAAAE93BFC20\n",
      "[01/18 19:41:28.653714][info][6036][OpenNIDevice.cpp:37] OpenNI device destroyed! PID: 0x060f, SN: ACRC64300Y3\n",
      "[01/18 19:41:28.653770][info][6036][VideoSensor.cpp:335] VideoSensor destroyed, @OB_SENSOR_COLOR\n",
      "[01/18 19:41:28.653793][info][6036][OpenNIVideoSensor.cpp:1070] OpenNIVideoSensor destroyed! sensorType=OB_SENSOR_DEPTH\n",
      "[01/18 19:41:28.654415][info][6036][ObUvcDevice.cpp:70] uvc_close done.\n",
      "[01/18 19:41:28.654427][info][6036][ObUvcDevice.cpp:72] ~ObUvcDevice done\n",
      "[01/18 19:41:28.654835][info][6036][Context.cpp:90] Context destroyed\n"
     ]
    }
   ],
   "source": [
    "import cv2 as cv\n",
    "\n",
    "orbbec_cap = cv.VideoCapture(0, cv.CAP_OBSENSOR)\n",
    "if orbbec_cap.isOpened() == False:\n",
    "\texit(\"Fail to open camera.\")\n",
    "\n",
    "while True:\n",
    "\tif orbbec_cap.grab():\n",
    "\t\t# RGB data\n",
    "\t\tret_bgr, bgr_image = orbbec_cap.retrieve(None, cv.CAP_OBSENSOR_BGR_IMAGE)\n",
    "\t\t # depth data\n",
    "\t\tret_depth, depth_map = orbbec_cap.retrieve(None, cv.CAP_OBSENSOR_DEPTH_MAP)\n",
    "\n",
    "\t\tif ret_depth and ret_bgr:\n",
    "\t\t\tcolor_depth_map = cv.applyColorMap(cv.convertScaleAbs(depth_map, alpha=0.0255), cv.COLORMAP_JET)\n",
    "\t\t\t# show the images\n",
    "\t\t\tcv.imshow('RBG', bgr_image)\n",
    "\t\t\tcv.imshow('Depth', color_depth_map)\n",
    "\t\telse:\n",
    "\t\t\tprint(\"Fail to grab data from the camera.\")\n",
    "\n",
    "\t\tif cv.pollKey():\n",
    "\t\t\tbreak\n",
    "\tkeyCode = cv2.waitKey(10) & 0xFF\n",
    "\t\t\t# Stop the program on the ESC key or 'q'\n",
    "\tif keyCode == 27 or keyCode == ord('q'):\n",
    "\t\tbreak\n",
    "orbbec_cap.release()"
   ]
  },
  {
   "cell_type": "code",
   "execution_count": 4,
   "id": "b6cdcca2",
   "metadata": {},
   "outputs": [
    {
     "name": "stdout",
     "output_type": "stream",
     "text": [
      "[01/18 19:42:57.204331][info][6036][Pipeline.cpp:15] Try to create pipeline with default device.\n",
      "[01/18 19:42:57.204496][info][6036][Pipeline.cpp:44] Pipeline created with device: {name: Astra Pro Plus, sn: ACRC64300Y3}, @0xAAAAED6652D0\n",
      "[01/18 19:42:57.222670][info][6036][Pipeline.cpp:72] Pipeline destroyed! @0xAAAAED6652D0\n"
     ]
    },
    {
     "name": "stderr",
     "output_type": "stream",
     "text": [
      "[ WARN:0@91.317] global cap.cpp:321 open VIDEOIO(OBSENSOR): raised unknown C++ exception!\n",
      "\n",
      "\n",
      "[ WARN:0@91.317] global cap.cpp:342 open VIDEOIO(OBSENSOR): backend is generally available but can't be used to capture by index\n"
     ]
    },
    {
     "ename": "SystemExit",
     "evalue": "Fail to open camera.",
     "output_type": "error",
     "traceback": [
      "An exception has occurred, use %tb to see the full traceback.\n",
      "\u001b[0;31mSystemExit\u001b[0m\u001b[0;31m:\u001b[0m Fail to open camera.\n"
     ]
    },
    {
     "name": "stderr",
     "output_type": "stream",
     "text": [
      "/home/cartoon/.local/lib/python3.10/site-packages/IPython/core/interactiveshell.py:3585: UserWarning: To exit: use 'exit', 'quit', or Ctrl-D.\n",
      "  warn(\"To exit: use 'exit', 'quit', or Ctrl-D.\", stacklevel=1)\n"
     ]
    }
   ],
   "source": [
    "import numpy as np\n",
    "import sys\n",
    "import cv2 as cv\n",
    "\n",
    "\n",
    "def main():\n",
    "    # Open Orbbec depth sensor\n",
    "    orbbec_cap = cv.VideoCapture(0, cv.CAP_OBSENSOR)\n",
    "    if orbbec_cap.isOpened() == False:\n",
    "        sys.exit(\"Fail to open camera.\")\n",
    "\n",
    "    while True:\n",
    "        # Grab data from the camera\n",
    "        if orbbec_cap.grab():\n",
    "            # RGB data\n",
    "            ret_bgr, bgr_image = orbbec_cap.retrieve(None, cv.CAP_OBSENSOR_BGR_IMAGE)\n",
    "            if ret_bgr:\n",
    "                cv.imshow(\"BGR\", bgr_image)\n",
    "\n",
    "            # depth data\n",
    "            ret_depth, depth_map = orbbec_cap.retrieve(None, cv.CAP_OBSENSOR_DEPTH_MAP)\n",
    "            if ret_depth:\n",
    "                color_depth_map = cv.normalize(depth_map, None, 0, 255, cv.NORM_MINMAX, cv.CV_8UC1)\n",
    "                color_depth_map = cv.applyColorMap(color_depth_map, cv.COLORMAP_JET)\n",
    "                cv.imshow(\"DEPTH\", color_depth_map)\n",
    "        else:\n",
    "            print(\"Fail to grab data from the camera.\")\n",
    "\n",
    "        if cv.pollKey() >= 0:\n",
    "            break\n",
    "\n",
    "    orbbec_cap.release()\n",
    "\n",
    "\n",
    "if __name__ == '__main__':\n",
    "    main()"
   ]
  }
 ],
 "metadata": {
  "kernelspec": {
   "display_name": "usr",
   "language": "python",
   "name": "python3"
  },
  "language_info": {
   "codemirror_mode": {
    "name": "ipython",
    "version": 3
   },
   "file_extension": ".py",
   "mimetype": "text/x-python",
   "name": "python",
   "nbconvert_exporter": "python",
   "pygments_lexer": "ipython3",
   "version": "3.10.12"
  }
 },
 "nbformat": 4,
 "nbformat_minor": 5
}
